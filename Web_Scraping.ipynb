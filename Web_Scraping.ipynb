{
  "nbformat": 4,
  "nbformat_minor": 0,
  "metadata": {
    "colab": {
      "provenance": [],
      "authorship_tag": "ABX9TyOWNMvPRxRr3svQFVHgiRF6",
      "include_colab_link": true
    },
    "kernelspec": {
      "name": "python3",
      "display_name": "Python 3"
    },
    "language_info": {
      "name": "python"
    }
  },
  "cells": [
    {
      "cell_type": "markdown",
      "metadata": {
        "id": "view-in-github",
        "colab_type": "text"
      },
      "source": [
        "<a href=\"https://colab.research.google.com/github/iagomauricioo/data_science/blob/main/Web_Scraping.ipynb\" target=\"_parent\"><img src=\"https://colab.research.google.com/assets/colab-badge.svg\" alt=\"Open In Colab\"/></a>"
      ]
    },
    {
      "cell_type": "code",
      "execution_count": 52,
      "metadata": {
        "id": "1Uaa2K-GT5Ov"
      },
      "outputs": [],
      "source": [
        "import requests\n",
        "from bs4 import BeautifulSoup\n",
        "import pandas as pd\n",
        "import matplotlib.pyplot as plt"
      ]
    },
    {
      "cell_type": "markdown",
      "source": [
        "# Introdução ao Web Scraping"
      ],
      "metadata": {
        "id": "YZPNP6_uwfJK"
      }
    },
    {
      "cell_type": "markdown",
      "source": [
        "Nesse módulo estarei fazendo um método chamado \"web scraping\" para puxar dados de sites que não seja por meio de uma API."
      ],
      "metadata": {
        "id": "N8O3fbNCwljs"
      }
    },
    {
      "cell_type": "markdown",
      "source": [
        "#### Estarei utilizando esse link para ter acesso aos dados deste site e entender como funciona este método.\n",
        "🔗 https://www.statisticstimes.com/tech/top-computer-languages.php\n",
        "\n"
      ],
      "metadata": {
        "id": "eawZv4vZww5y"
      }
    },
    {
      "cell_type": "code",
      "source": [
        "html = requests.get('https://www.statisticstimes.com/tech/top-computer-languages.php')\n",
        "soup = BeautifulSoup(html.text, 'html5lib')"
      ],
      "metadata": {
        "id": "NRP7zy-dxVHX"
      },
      "execution_count": null,
      "outputs": []
    },
    {
      "cell_type": "code",
      "source": [
        "primeiro_paragrafo = soup.find('p')\n",
        "primeiro_paragrafo"
      ],
      "metadata": {
        "colab": {
          "base_uri": "https://localhost:8080/"
        },
        "id": "Cbo7yvkXxcFi",
        "outputId": "d42d8d7a-c815-4c52-d0ab-683a7faad844"
      },
      "execution_count": null,
      "outputs": [
        {
          "output_type": "execute_result",
          "data": {
            "text/plain": [
              "<p>Python is the top programming language in TIOBE and PYPL Index. Python has taken a lead of over 6% from C \n",
              "in TIOBE. In PYPL, a gap is much wider as top-ranked Python is ahead close to 12.4% from 2nd ranked Java.</p>"
            ]
          },
          "metadata": {},
          "execution_count": 4
        }
      ]
    },
    {
      "cell_type": "code",
      "source": [
        "primeiro_paragrafo.text"
      ],
      "metadata": {
        "colab": {
          "base_uri": "https://localhost:8080/",
          "height": 70
        },
        "id": "LGRp1r50xfV_",
        "outputId": "ba679136-8d93-4349-8346-2fadb28a7a3a"
      },
      "execution_count": null,
      "outputs": [
        {
          "output_type": "execute_result",
          "data": {
            "text/plain": [
              "'Python is the top programming language in TIOBE and PYPL Index. Python has taken a lead of over 6% from C \\nin TIOBE. In PYPL, a gap is much wider as top-ranked Python is ahead close to 12.4% from 2nd ranked Java.'"
            ],
            "application/vnd.google.colaboratory.intrinsic+json": {
              "type": "string"
            }
          },
          "metadata": {},
          "execution_count": 5
        }
      ]
    },
    {
      "cell_type": "code",
      "source": [
        "paragrafos = soup.find_all('p')\n",
        "paragrafos"
      ],
      "metadata": {
        "colab": {
          "base_uri": "https://localhost:8080/"
        },
        "id": "GtzIeHe6xi2n",
        "outputId": "79cfa122-41e5-4ab8-8f51-ee693271a232"
      },
      "execution_count": null,
      "outputs": [
        {
          "output_type": "execute_result",
          "data": {
            "text/plain": [
              "[<p>Python is the top programming language in TIOBE and PYPL Index. Python has taken a lead of over 6% from C \n",
              " in TIOBE. In PYPL, a gap is much wider as top-ranked Python is ahead close to 12.4% from 2nd ranked Java.</p>,\n",
              " <p><b>TIOBE:</b> Python, C, Java, C++ and C# are way ahead of others in TIOBE Index. C, C++ and\n",
              " Java are very close to each other at 2nd, 3rd and 4th number. C++ and C# have positive trends in the past five years. \n",
              " These three have negative trends in the past five years: Java, C, and PHP. PHP hit its lowest position ever in \n",
              " the TIOBE index in April 2024. PHP was at 3rd position in Mar 2010 is now at 17th. \n",
              " Positions of C has not been much affected but rating is constantly declining. The rating\n",
              " of Java has declined from 26.49% in June 2001 to 8.94% in Apr 2024.</p>,\n",
              " <p><b>PYPL:</b> Acc to PYPL, which publishes separate ranking for five countries, Python is the top language in \n",
              " all five countries (US, India, Germany, United Kingdom, France). Python has taken a huge lead in these five \n",
              " countries over the 2nd number of Java, and its shares are even almost double of Java in US \n",
              " and Germany and by four times in France and United Kingdom, These two account for almost 44.5% of the global search. \n",
              " C/C++ and C# are within top five in four countries. JavaScript is within top five in three countries.</p>,\n",
              " <p>PHP is the biggest loser in recent years in PYPL. Its share was over 20% in 2008; now, this fig is only 4.45% in 2024. \n",
              " Java is too declining but not as fast as PHP. Java's contribution was over 31% in 2008, and still, it holds 16.04%. In \n",
              " 2004-2009, 50% of the search was of either Java or PHP.</p>,\n",
              " <p><b>TIOBE Index:</b> TIOBE ratings are calculated by counting hits of the most popular search engines. Twenty-five \n",
              " search engines are used to calculate the TIOBE index. The TIOBE Programming Community index is an indicator of the\n",
              "  popularity of programming languages. The index started in the year 2001 and updated once a month.</p>,\n",
              " <p><b>PYPL Index:</b> The PYPL PopularitY of Programming Language Index is created by analyzing how often language\n",
              "  tutorials are searched on Google. The index is updated once a month.</p>]"
            ]
          },
          "metadata": {},
          "execution_count": 8
        }
      ]
    },
    {
      "cell_type": "code",
      "source": [
        "paragrafos[0].text"
      ],
      "metadata": {
        "colab": {
          "base_uri": "https://localhost:8080/",
          "height": 70
        },
        "id": "plF7_Gr_xp6P",
        "outputId": "98aeba8e-5024-441d-898f-3944b8a8f511"
      },
      "execution_count": null,
      "outputs": [
        {
          "output_type": "execute_result",
          "data": {
            "text/plain": [
              "'Python is the top programming language in TIOBE and PYPL Index. Python has taken a lead of over 6% from C \\nin TIOBE. In PYPL, a gap is much wider as top-ranked Python is ahead close to 12.4% from 2nd ranked Java.'"
            ],
            "application/vnd.google.colaboratory.intrinsic+json": {
              "type": "string"
            }
          },
          "metadata": {},
          "execution_count": 9
        }
      ]
    },
    {
      "cell_type": "code",
      "source": [
        "paragrafos[1].text"
      ],
      "metadata": {
        "colab": {
          "base_uri": "https://localhost:8080/",
          "height": 139
        },
        "id": "GWKxj6WUxtOd",
        "outputId": "10f35de9-04d5-4df8-f14f-d11df198c39f"
      },
      "execution_count": null,
      "outputs": [
        {
          "output_type": "execute_result",
          "data": {
            "text/plain": [
              "'TIOBE: Python, C, Java, C++ and C# are way ahead of others in TIOBE Index. C, C++ and\\nJava are very close to each other at 2nd, 3rd and 4th number. C++ and C# have positive trends in the past five years. \\nThese three have negative trends in the past five years: Java, C, and PHP. PHP hit its lowest position ever in \\nthe TIOBE index in April 2024. PHP was at 3rd position in Mar 2010 is now at 17th. \\nPositions of C has not been much affected but rating is constantly declining. The rating\\nof Java has declined from 26.49% in June 2001 to 8.94% in Apr 2024.'"
            ],
            "application/vnd.google.colaboratory.intrinsic+json": {
              "type": "string"
            }
          },
          "metadata": {},
          "execution_count": 10
        }
      ]
    },
    {
      "cell_type": "code",
      "source": [
        "table_id1 = soup.find(id = 'table_id1')\n",
        "table_id1"
      ],
      "metadata": {
        "colab": {
          "base_uri": "https://localhost:8080/"
        },
        "id": "O7KIYhz7xxSI",
        "outputId": "f2a46336-471c-414d-a571-77b49edba5b5"
      },
      "execution_count": null,
      "outputs": [
        {
          "output_type": "execute_result",
          "data": {
            "text/plain": [
              "<table class=\"display\" id=\"table_id1\" style=\"width:440px;display:table;border:1px solid #0000FF;\">\n",
              "    <caption style=\"caption-side:top\">PYPL Index (Worldwide)</caption>\n",
              "<thead>\n",
              "<tr style=\"background-color:#0000FF\"><th>Apr 2024</th><th>Change</th><th>Programming language</th>\n",
              "<th>Share</th><th>Trends</th></tr>\n",
              "</thead>\n",
              "<tbody>\n",
              "<tr><td class=\"data1\">1</td><td class=\"data1\"></td><td class=\"name\">Python</td><td class=\"data1\"> 28.43 %</td><td class=\"data1\">+0.7 %</td></tr>\n",
              "<tr><td class=\"data1\">2</td><td class=\"data1\"></td><td class=\"name\">Java</td><td class=\"data1\"> 16.04 %</td><td class=\"data1\">-0.1 %</td></tr>\n",
              "<tr><td class=\"data1\">3</td><td class=\"data1\"></td><td class=\"name\">JavaScript</td><td class=\"data1\"> 8.72 %</td><td class=\"data1\">-0.8 %</td></tr>\n",
              "<tr><td class=\"data1\">4</td><td class=\"data1\">↑</td><td class=\"name\">C/C++</td><td class=\"data1\"> 6.65 %</td><td class=\"data1\">+0.2 %</td></tr>\n",
              "<tr><td class=\"data1\">5</td><td class=\"data1\">↓</td><td class=\"name\">C#</td><td class=\"data1\"> 6.63 %</td><td class=\"data1\">-0.2 %</td></tr>\n",
              "<tr><td class=\"data1\">6</td><td class=\"data1\">↑</td><td class=\"name\">R</td><td class=\"data1\"> 4.63 %</td><td class=\"data1\">+0.2 %</td></tr>\n",
              "<tr><td class=\"data1\">7</td><td class=\"data1\">↓</td><td class=\"name\">PHP</td><td class=\"data1\"> 4.45 %</td><td class=\"data1\">-0.7 %</td></tr>\n",
              "<tr><td class=\"data1\">8</td><td class=\"data1\"></td><td class=\"name\">TypeScript</td><td class=\"data1\"> 2.96 %</td><td class=\"data1\">+0.0 %</td></tr>\n",
              "<tr><td class=\"data1\">9</td><td class=\"data1\"></td><td class=\"name\">Swift</td><td class=\"data1\"> 2.71 %</td><td class=\"data1\">+0.4 %</td></tr>\n",
              "<tr><td class=\"data1\">10</td><td class=\"data1\"></td><td class=\"name\">Rust</td><td class=\"data1\"> 2.53 %</td><td class=\"data1\">+0.4 %</td></tr>\n",
              "<tr><td class=\"data1\">11</td><td class=\"data1\"></td><td class=\"name\">Objective-C</td><td class=\"data1\"> 2.43 %</td><td class=\"data1\">+0.3 %</td></tr>\n",
              "<tr><td class=\"data1\">12</td><td class=\"data1\"></td><td class=\"name\">Go</td><td class=\"data1\"> 2.16 %</td><td class=\"data1\">+0.2 %</td></tr>\n",
              "<tr><td class=\"data1\">13</td><td class=\"data1\"></td><td class=\"name\">Kotlin</td><td class=\"data1\"> 1.93 %</td><td class=\"data1\">+0.0 %</td></tr>\n",
              "<tr><td class=\"data1\">14</td><td class=\"data1\"></td><td class=\"name\">Matlab</td><td class=\"data1\"> 1.54 %</td><td class=\"data1\">-0.1 %</td></tr>\n",
              "<tr><td class=\"data1\">15</td><td class=\"data1\">↑↑↑↑</td><td class=\"name\">Dart</td><td class=\"data1\"> 1.01 %</td><td class=\"data1\">+0.2 %</td></tr>\n",
              "<tr><td class=\"data1\">16</td><td class=\"data1\"></td><td class=\"name\">Ada</td><td class=\"data1\"> 0.99 %</td><td class=\"data1\">-0.0 %</td></tr>\n",
              "<tr><td class=\"data1\">17</td><td class=\"data1\">↓↓</td><td class=\"name\">Ruby</td><td class=\"data1\"> 0.97 %</td><td class=\"data1\">-0.1 %</td></tr>\n",
              "<tr><td class=\"data1\">18</td><td class=\"data1\">↓</td><td class=\"name\">VBA</td><td class=\"data1\"> 0.91 %</td><td class=\"data1\">-0.0 %</td></tr>\n",
              "<tr><td class=\"data1\">19</td><td class=\"data1\">↓</td><td class=\"name\">Powershell</td><td class=\"data1\"> 0.76 %</td><td class=\"data1\">-0.2 %</td></tr>\n",
              "<tr><td class=\"data1\">20</td><td class=\"data1\">↑</td><td class=\"name\">Lua</td><td class=\"data1\"> 0.61 %</td><td class=\"data1\">+0.0 %</td></tr>\n",
              "<tr><td class=\"data1\">21</td><td class=\"data1\">↑↑</td><td class=\"name\">Abap</td><td class=\"data1\"> 0.6 %</td><td class=\"data1\">+0.1 %</td></tr>\n",
              "<tr><td class=\"data1\">22</td><td class=\"data1\">↓↓</td><td class=\"name\">Scala</td><td class=\"data1\"> 0.58 %</td><td class=\"data1\">-0.1 %</td></tr>\n",
              "<tr><td class=\"data1\">23</td><td class=\"data1\">↓</td><td class=\"name\">Visual Basic</td><td class=\"data1\"> 0.42 %</td><td class=\"data1\">-0.2 %</td></tr>\n",
              "<tr><td class=\"data1\">24</td><td class=\"data1\">↑</td><td class=\"name\">Groovy</td><td class=\"data1\"> 0.35 %</td><td class=\"data1\">-0.0 %</td></tr>\n",
              "<tr><td class=\"data1\">25</td><td class=\"data1\">↓</td><td class=\"name\">Julia</td><td class=\"data1\"> 0.33 %</td><td class=\"data1\">-0.1 %</td></tr>\n",
              "<tr><td class=\"data1\">26</td><td class=\"data1\"></td><td class=\"name\">Perl</td><td class=\"data1\"> 0.22 %</td><td class=\"data1\">-0.1 %</td></tr>\n",
              "<tr><td class=\"data1\">27</td><td class=\"data1\">↑</td><td class=\"name\">Haskell</td><td class=\"data1\"> 0.17 %</td><td class=\"data1\">-0.1 %</td></tr>\n",
              "<tr><td class=\"data1\">28</td><td class=\"data1\">↓</td><td class=\"name\">Cobol</td><td class=\"data1\"> 0.14 %</td><td class=\"data1\">-0.2 %</td></tr>\n",
              "<tr><td class=\"data1\">29</td><td class=\"data1\"></td><td class=\"name\">Delphi/Pascal</td><td class=\"data1\"> 0.13 %</td><td class=\"data1\">-0.0 %</td></tr>\n",
              "</tbody></table>"
            ]
          },
          "metadata": {},
          "execution_count": 11
        }
      ]
    },
    {
      "cell_type": "code",
      "source": [
        "tbody = table_id1.find('tbody')\n",
        "tbody"
      ],
      "metadata": {
        "colab": {
          "base_uri": "https://localhost:8080/"
        },
        "id": "lFZmXGhx0QjS",
        "outputId": "019b1fb7-cc6e-4541-c81d-067092ee46ba"
      },
      "execution_count": null,
      "outputs": [
        {
          "output_type": "execute_result",
          "data": {
            "text/plain": [
              "<tbody>\n",
              "<tr><td class=\"data1\">1</td><td class=\"data1\"></td><td class=\"name\">Python</td><td class=\"data1\"> 28.43 %</td><td class=\"data1\">+0.7 %</td></tr>\n",
              "<tr><td class=\"data1\">2</td><td class=\"data1\"></td><td class=\"name\">Java</td><td class=\"data1\"> 16.04 %</td><td class=\"data1\">-0.1 %</td></tr>\n",
              "<tr><td class=\"data1\">3</td><td class=\"data1\"></td><td class=\"name\">JavaScript</td><td class=\"data1\"> 8.72 %</td><td class=\"data1\">-0.8 %</td></tr>\n",
              "<tr><td class=\"data1\">4</td><td class=\"data1\">↑</td><td class=\"name\">C/C++</td><td class=\"data1\"> 6.65 %</td><td class=\"data1\">+0.2 %</td></tr>\n",
              "<tr><td class=\"data1\">5</td><td class=\"data1\">↓</td><td class=\"name\">C#</td><td class=\"data1\"> 6.63 %</td><td class=\"data1\">-0.2 %</td></tr>\n",
              "<tr><td class=\"data1\">6</td><td class=\"data1\">↑</td><td class=\"name\">R</td><td class=\"data1\"> 4.63 %</td><td class=\"data1\">+0.2 %</td></tr>\n",
              "<tr><td class=\"data1\">7</td><td class=\"data1\">↓</td><td class=\"name\">PHP</td><td class=\"data1\"> 4.45 %</td><td class=\"data1\">-0.7 %</td></tr>\n",
              "<tr><td class=\"data1\">8</td><td class=\"data1\"></td><td class=\"name\">TypeScript</td><td class=\"data1\"> 2.96 %</td><td class=\"data1\">+0.0 %</td></tr>\n",
              "<tr><td class=\"data1\">9</td><td class=\"data1\"></td><td class=\"name\">Swift</td><td class=\"data1\"> 2.71 %</td><td class=\"data1\">+0.4 %</td></tr>\n",
              "<tr><td class=\"data1\">10</td><td class=\"data1\"></td><td class=\"name\">Rust</td><td class=\"data1\"> 2.53 %</td><td class=\"data1\">+0.4 %</td></tr>\n",
              "<tr><td class=\"data1\">11</td><td class=\"data1\"></td><td class=\"name\">Objective-C</td><td class=\"data1\"> 2.43 %</td><td class=\"data1\">+0.3 %</td></tr>\n",
              "<tr><td class=\"data1\">12</td><td class=\"data1\"></td><td class=\"name\">Go</td><td class=\"data1\"> 2.16 %</td><td class=\"data1\">+0.2 %</td></tr>\n",
              "<tr><td class=\"data1\">13</td><td class=\"data1\"></td><td class=\"name\">Kotlin</td><td class=\"data1\"> 1.93 %</td><td class=\"data1\">+0.0 %</td></tr>\n",
              "<tr><td class=\"data1\">14</td><td class=\"data1\"></td><td class=\"name\">Matlab</td><td class=\"data1\"> 1.54 %</td><td class=\"data1\">-0.1 %</td></tr>\n",
              "<tr><td class=\"data1\">15</td><td class=\"data1\">↑↑↑↑</td><td class=\"name\">Dart</td><td class=\"data1\"> 1.01 %</td><td class=\"data1\">+0.2 %</td></tr>\n",
              "<tr><td class=\"data1\">16</td><td class=\"data1\"></td><td class=\"name\">Ada</td><td class=\"data1\"> 0.99 %</td><td class=\"data1\">-0.0 %</td></tr>\n",
              "<tr><td class=\"data1\">17</td><td class=\"data1\">↓↓</td><td class=\"name\">Ruby</td><td class=\"data1\"> 0.97 %</td><td class=\"data1\">-0.1 %</td></tr>\n",
              "<tr><td class=\"data1\">18</td><td class=\"data1\">↓</td><td class=\"name\">VBA</td><td class=\"data1\"> 0.91 %</td><td class=\"data1\">-0.0 %</td></tr>\n",
              "<tr><td class=\"data1\">19</td><td class=\"data1\">↓</td><td class=\"name\">Powershell</td><td class=\"data1\"> 0.76 %</td><td class=\"data1\">-0.2 %</td></tr>\n",
              "<tr><td class=\"data1\">20</td><td class=\"data1\">↑</td><td class=\"name\">Lua</td><td class=\"data1\"> 0.61 %</td><td class=\"data1\">+0.0 %</td></tr>\n",
              "<tr><td class=\"data1\">21</td><td class=\"data1\">↑↑</td><td class=\"name\">Abap</td><td class=\"data1\"> 0.6 %</td><td class=\"data1\">+0.1 %</td></tr>\n",
              "<tr><td class=\"data1\">22</td><td class=\"data1\">↓↓</td><td class=\"name\">Scala</td><td class=\"data1\"> 0.58 %</td><td class=\"data1\">-0.1 %</td></tr>\n",
              "<tr><td class=\"data1\">23</td><td class=\"data1\">↓</td><td class=\"name\">Visual Basic</td><td class=\"data1\"> 0.42 %</td><td class=\"data1\">-0.2 %</td></tr>\n",
              "<tr><td class=\"data1\">24</td><td class=\"data1\">↑</td><td class=\"name\">Groovy</td><td class=\"data1\"> 0.35 %</td><td class=\"data1\">-0.0 %</td></tr>\n",
              "<tr><td class=\"data1\">25</td><td class=\"data1\">↓</td><td class=\"name\">Julia</td><td class=\"data1\"> 0.33 %</td><td class=\"data1\">-0.1 %</td></tr>\n",
              "<tr><td class=\"data1\">26</td><td class=\"data1\"></td><td class=\"name\">Perl</td><td class=\"data1\"> 0.22 %</td><td class=\"data1\">-0.1 %</td></tr>\n",
              "<tr><td class=\"data1\">27</td><td class=\"data1\">↑</td><td class=\"name\">Haskell</td><td class=\"data1\"> 0.17 %</td><td class=\"data1\">-0.1 %</td></tr>\n",
              "<tr><td class=\"data1\">28</td><td class=\"data1\">↓</td><td class=\"name\">Cobol</td><td class=\"data1\"> 0.14 %</td><td class=\"data1\">-0.2 %</td></tr>\n",
              "<tr><td class=\"data1\">29</td><td class=\"data1\"></td><td class=\"name\">Delphi/Pascal</td><td class=\"data1\"> 0.13 %</td><td class=\"data1\">-0.0 %</td></tr>\n",
              "</tbody>"
            ]
          },
          "metadata": {},
          "execution_count": 29
        }
      ]
    },
    {
      "cell_type": "code",
      "source": [
        "for linha in tbody.find_all('tr'):\n",
        "    print(linha)"
      ],
      "metadata": {
        "colab": {
          "base_uri": "https://localhost:8080/"
        },
        "id": "EPVCC5HMyMTY",
        "outputId": "656fb8be-6475-46d6-ea40-f9ae4cf685bd"
      },
      "execution_count": null,
      "outputs": [
        {
          "output_type": "stream",
          "name": "stdout",
          "text": [
            "<tr><td class=\"data1\">1</td><td class=\"data1\"></td><td class=\"name\">Python</td><td class=\"data1\"> 28.43 %</td><td class=\"data1\">+0.7 %</td></tr>\n",
            "<tr><td class=\"data1\">2</td><td class=\"data1\"></td><td class=\"name\">Java</td><td class=\"data1\"> 16.04 %</td><td class=\"data1\">-0.1 %</td></tr>\n",
            "<tr><td class=\"data1\">3</td><td class=\"data1\"></td><td class=\"name\">JavaScript</td><td class=\"data1\"> 8.72 %</td><td class=\"data1\">-0.8 %</td></tr>\n",
            "<tr><td class=\"data1\">4</td><td class=\"data1\">↑</td><td class=\"name\">C/C++</td><td class=\"data1\"> 6.65 %</td><td class=\"data1\">+0.2 %</td></tr>\n",
            "<tr><td class=\"data1\">5</td><td class=\"data1\">↓</td><td class=\"name\">C#</td><td class=\"data1\"> 6.63 %</td><td class=\"data1\">-0.2 %</td></tr>\n",
            "<tr><td class=\"data1\">6</td><td class=\"data1\">↑</td><td class=\"name\">R</td><td class=\"data1\"> 4.63 %</td><td class=\"data1\">+0.2 %</td></tr>\n",
            "<tr><td class=\"data1\">7</td><td class=\"data1\">↓</td><td class=\"name\">PHP</td><td class=\"data1\"> 4.45 %</td><td class=\"data1\">-0.7 %</td></tr>\n",
            "<tr><td class=\"data1\">8</td><td class=\"data1\"></td><td class=\"name\">TypeScript</td><td class=\"data1\"> 2.96 %</td><td class=\"data1\">+0.0 %</td></tr>\n",
            "<tr><td class=\"data1\">9</td><td class=\"data1\"></td><td class=\"name\">Swift</td><td class=\"data1\"> 2.71 %</td><td class=\"data1\">+0.4 %</td></tr>\n",
            "<tr><td class=\"data1\">10</td><td class=\"data1\"></td><td class=\"name\">Rust</td><td class=\"data1\"> 2.53 %</td><td class=\"data1\">+0.4 %</td></tr>\n",
            "<tr><td class=\"data1\">11</td><td class=\"data1\"></td><td class=\"name\">Objective-C</td><td class=\"data1\"> 2.43 %</td><td class=\"data1\">+0.3 %</td></tr>\n",
            "<tr><td class=\"data1\">12</td><td class=\"data1\"></td><td class=\"name\">Go</td><td class=\"data1\"> 2.16 %</td><td class=\"data1\">+0.2 %</td></tr>\n",
            "<tr><td class=\"data1\">13</td><td class=\"data1\"></td><td class=\"name\">Kotlin</td><td class=\"data1\"> 1.93 %</td><td class=\"data1\">+0.0 %</td></tr>\n",
            "<tr><td class=\"data1\">14</td><td class=\"data1\"></td><td class=\"name\">Matlab</td><td class=\"data1\"> 1.54 %</td><td class=\"data1\">-0.1 %</td></tr>\n",
            "<tr><td class=\"data1\">15</td><td class=\"data1\">↑↑↑↑</td><td class=\"name\">Dart</td><td class=\"data1\"> 1.01 %</td><td class=\"data1\">+0.2 %</td></tr>\n",
            "<tr><td class=\"data1\">16</td><td class=\"data1\"></td><td class=\"name\">Ada</td><td class=\"data1\"> 0.99 %</td><td class=\"data1\">-0.0 %</td></tr>\n",
            "<tr><td class=\"data1\">17</td><td class=\"data1\">↓↓</td><td class=\"name\">Ruby</td><td class=\"data1\"> 0.97 %</td><td class=\"data1\">-0.1 %</td></tr>\n",
            "<tr><td class=\"data1\">18</td><td class=\"data1\">↓</td><td class=\"name\">VBA</td><td class=\"data1\"> 0.91 %</td><td class=\"data1\">-0.0 %</td></tr>\n",
            "<tr><td class=\"data1\">19</td><td class=\"data1\">↓</td><td class=\"name\">Powershell</td><td class=\"data1\"> 0.76 %</td><td class=\"data1\">-0.2 %</td></tr>\n",
            "<tr><td class=\"data1\">20</td><td class=\"data1\">↑</td><td class=\"name\">Lua</td><td class=\"data1\"> 0.61 %</td><td class=\"data1\">+0.0 %</td></tr>\n",
            "<tr><td class=\"data1\">21</td><td class=\"data1\">↑↑</td><td class=\"name\">Abap</td><td class=\"data1\"> 0.6 %</td><td class=\"data1\">+0.1 %</td></tr>\n",
            "<tr><td class=\"data1\">22</td><td class=\"data1\">↓↓</td><td class=\"name\">Scala</td><td class=\"data1\"> 0.58 %</td><td class=\"data1\">-0.1 %</td></tr>\n",
            "<tr><td class=\"data1\">23</td><td class=\"data1\">↓</td><td class=\"name\">Visual Basic</td><td class=\"data1\"> 0.42 %</td><td class=\"data1\">-0.2 %</td></tr>\n",
            "<tr><td class=\"data1\">24</td><td class=\"data1\">↑</td><td class=\"name\">Groovy</td><td class=\"data1\"> 0.35 %</td><td class=\"data1\">-0.0 %</td></tr>\n",
            "<tr><td class=\"data1\">25</td><td class=\"data1\">↓</td><td class=\"name\">Julia</td><td class=\"data1\"> 0.33 %</td><td class=\"data1\">-0.1 %</td></tr>\n",
            "<tr><td class=\"data1\">26</td><td class=\"data1\"></td><td class=\"name\">Perl</td><td class=\"data1\"> 0.22 %</td><td class=\"data1\">-0.1 %</td></tr>\n",
            "<tr><td class=\"data1\">27</td><td class=\"data1\">↑</td><td class=\"name\">Haskell</td><td class=\"data1\"> 0.17 %</td><td class=\"data1\">-0.1 %</td></tr>\n",
            "<tr><td class=\"data1\">28</td><td class=\"data1\">↓</td><td class=\"name\">Cobol</td><td class=\"data1\"> 0.14 %</td><td class=\"data1\">-0.2 %</td></tr>\n",
            "<tr><td class=\"data1\">29</td><td class=\"data1\"></td><td class=\"name\">Delphi/Pascal</td><td class=\"data1\"> 0.13 %</td><td class=\"data1\">-0.0 %</td></tr>\n"
          ]
        }
      ]
    },
    {
      "cell_type": "code",
      "source": [
        "tabela = soup.find('table', {'id':'table_id1'}).find('tbody')\n",
        "linhas = tabela.find_all('tr')\n",
        "posicao = []\n",
        "linguagem = []\n",
        "porcentagem = []\n",
        "for linha in linhas:\n",
        "    dado = linha.find_all('td')\n",
        "    posicao.append(dado[0].text + \"º\")\n",
        "    linguagem.append(dado[2].text)\n",
        "    porcentagem_float = dado[3].text.split('%')\n",
        "    porcentagem.append(float(porcentagem_float[0]))\n",
        "\n",
        "df = pd.DataFrame(\n",
        "    {\n",
        "        \"posicao\": posicao,\n",
        "        \"linguagem\": linguagem,\n",
        "        \"porcentagem\": porcentagem\n",
        "    }\n",
        ")\n",
        "\n",
        "df"
      ],
      "metadata": {
        "colab": {
          "base_uri": "https://localhost:8080/",
          "height": 958
        },
        "id": "JtRGOCi3yGtX",
        "outputId": "091a6fe1-8938-4808-aa06-0db77e3efd5b"
      },
      "execution_count": 61,
      "outputs": [
        {
          "output_type": "execute_result",
          "data": {
            "text/plain": [
              "   posicao      linguagem  porcentagem\n",
              "0       1º         Python        28.43\n",
              "1       2º           Java        16.04\n",
              "2       3º     JavaScript         8.72\n",
              "3       4º          C/C++         6.65\n",
              "4       5º             C#         6.63\n",
              "5       6º              R         4.63\n",
              "6       7º            PHP         4.45\n",
              "7       8º     TypeScript         2.96\n",
              "8       9º          Swift         2.71\n",
              "9      10º           Rust         2.53\n",
              "10     11º    Objective-C         2.43\n",
              "11     12º             Go         2.16\n",
              "12     13º         Kotlin         1.93\n",
              "13     14º         Matlab         1.54\n",
              "14     15º           Dart         1.01\n",
              "15     16º            Ada         0.99\n",
              "16     17º           Ruby         0.97\n",
              "17     18º            VBA         0.91\n",
              "18     19º     Powershell         0.76\n",
              "19     20º            Lua         0.61\n",
              "20     21º           Abap         0.60\n",
              "21     22º          Scala         0.58\n",
              "22     23º   Visual Basic         0.42\n",
              "23     24º         Groovy         0.35\n",
              "24     25º          Julia         0.33\n",
              "25     26º           Perl         0.22\n",
              "26     27º        Haskell         0.17\n",
              "27     28º          Cobol         0.14\n",
              "28     29º  Delphi/Pascal         0.13"
            ],
            "text/html": [
              "\n",
              "  <div id=\"df-957897fc-54ab-4ce1-8771-0a47bdb287ae\" class=\"colab-df-container\">\n",
              "    <div>\n",
              "<style scoped>\n",
              "    .dataframe tbody tr th:only-of-type {\n",
              "        vertical-align: middle;\n",
              "    }\n",
              "\n",
              "    .dataframe tbody tr th {\n",
              "        vertical-align: top;\n",
              "    }\n",
              "\n",
              "    .dataframe thead th {\n",
              "        text-align: right;\n",
              "    }\n",
              "</style>\n",
              "<table border=\"1\" class=\"dataframe\">\n",
              "  <thead>\n",
              "    <tr style=\"text-align: right;\">\n",
              "      <th></th>\n",
              "      <th>posicao</th>\n",
              "      <th>linguagem</th>\n",
              "      <th>porcentagem</th>\n",
              "    </tr>\n",
              "  </thead>\n",
              "  <tbody>\n",
              "    <tr>\n",
              "      <th>0</th>\n",
              "      <td>1º</td>\n",
              "      <td>Python</td>\n",
              "      <td>28.43</td>\n",
              "    </tr>\n",
              "    <tr>\n",
              "      <th>1</th>\n",
              "      <td>2º</td>\n",
              "      <td>Java</td>\n",
              "      <td>16.04</td>\n",
              "    </tr>\n",
              "    <tr>\n",
              "      <th>2</th>\n",
              "      <td>3º</td>\n",
              "      <td>JavaScript</td>\n",
              "      <td>8.72</td>\n",
              "    </tr>\n",
              "    <tr>\n",
              "      <th>3</th>\n",
              "      <td>4º</td>\n",
              "      <td>C/C++</td>\n",
              "      <td>6.65</td>\n",
              "    </tr>\n",
              "    <tr>\n",
              "      <th>4</th>\n",
              "      <td>5º</td>\n",
              "      <td>C#</td>\n",
              "      <td>6.63</td>\n",
              "    </tr>\n",
              "    <tr>\n",
              "      <th>5</th>\n",
              "      <td>6º</td>\n",
              "      <td>R</td>\n",
              "      <td>4.63</td>\n",
              "    </tr>\n",
              "    <tr>\n",
              "      <th>6</th>\n",
              "      <td>7º</td>\n",
              "      <td>PHP</td>\n",
              "      <td>4.45</td>\n",
              "    </tr>\n",
              "    <tr>\n",
              "      <th>7</th>\n",
              "      <td>8º</td>\n",
              "      <td>TypeScript</td>\n",
              "      <td>2.96</td>\n",
              "    </tr>\n",
              "    <tr>\n",
              "      <th>8</th>\n",
              "      <td>9º</td>\n",
              "      <td>Swift</td>\n",
              "      <td>2.71</td>\n",
              "    </tr>\n",
              "    <tr>\n",
              "      <th>9</th>\n",
              "      <td>10º</td>\n",
              "      <td>Rust</td>\n",
              "      <td>2.53</td>\n",
              "    </tr>\n",
              "    <tr>\n",
              "      <th>10</th>\n",
              "      <td>11º</td>\n",
              "      <td>Objective-C</td>\n",
              "      <td>2.43</td>\n",
              "    </tr>\n",
              "    <tr>\n",
              "      <th>11</th>\n",
              "      <td>12º</td>\n",
              "      <td>Go</td>\n",
              "      <td>2.16</td>\n",
              "    </tr>\n",
              "    <tr>\n",
              "      <th>12</th>\n",
              "      <td>13º</td>\n",
              "      <td>Kotlin</td>\n",
              "      <td>1.93</td>\n",
              "    </tr>\n",
              "    <tr>\n",
              "      <th>13</th>\n",
              "      <td>14º</td>\n",
              "      <td>Matlab</td>\n",
              "      <td>1.54</td>\n",
              "    </tr>\n",
              "    <tr>\n",
              "      <th>14</th>\n",
              "      <td>15º</td>\n",
              "      <td>Dart</td>\n",
              "      <td>1.01</td>\n",
              "    </tr>\n",
              "    <tr>\n",
              "      <th>15</th>\n",
              "      <td>16º</td>\n",
              "      <td>Ada</td>\n",
              "      <td>0.99</td>\n",
              "    </tr>\n",
              "    <tr>\n",
              "      <th>16</th>\n",
              "      <td>17º</td>\n",
              "      <td>Ruby</td>\n",
              "      <td>0.97</td>\n",
              "    </tr>\n",
              "    <tr>\n",
              "      <th>17</th>\n",
              "      <td>18º</td>\n",
              "      <td>VBA</td>\n",
              "      <td>0.91</td>\n",
              "    </tr>\n",
              "    <tr>\n",
              "      <th>18</th>\n",
              "      <td>19º</td>\n",
              "      <td>Powershell</td>\n",
              "      <td>0.76</td>\n",
              "    </tr>\n",
              "    <tr>\n",
              "      <th>19</th>\n",
              "      <td>20º</td>\n",
              "      <td>Lua</td>\n",
              "      <td>0.61</td>\n",
              "    </tr>\n",
              "    <tr>\n",
              "      <th>20</th>\n",
              "      <td>21º</td>\n",
              "      <td>Abap</td>\n",
              "      <td>0.60</td>\n",
              "    </tr>\n",
              "    <tr>\n",
              "      <th>21</th>\n",
              "      <td>22º</td>\n",
              "      <td>Scala</td>\n",
              "      <td>0.58</td>\n",
              "    </tr>\n",
              "    <tr>\n",
              "      <th>22</th>\n",
              "      <td>23º</td>\n",
              "      <td>Visual Basic</td>\n",
              "      <td>0.42</td>\n",
              "    </tr>\n",
              "    <tr>\n",
              "      <th>23</th>\n",
              "      <td>24º</td>\n",
              "      <td>Groovy</td>\n",
              "      <td>0.35</td>\n",
              "    </tr>\n",
              "    <tr>\n",
              "      <th>24</th>\n",
              "      <td>25º</td>\n",
              "      <td>Julia</td>\n",
              "      <td>0.33</td>\n",
              "    </tr>\n",
              "    <tr>\n",
              "      <th>25</th>\n",
              "      <td>26º</td>\n",
              "      <td>Perl</td>\n",
              "      <td>0.22</td>\n",
              "    </tr>\n",
              "    <tr>\n",
              "      <th>26</th>\n",
              "      <td>27º</td>\n",
              "      <td>Haskell</td>\n",
              "      <td>0.17</td>\n",
              "    </tr>\n",
              "    <tr>\n",
              "      <th>27</th>\n",
              "      <td>28º</td>\n",
              "      <td>Cobol</td>\n",
              "      <td>0.14</td>\n",
              "    </tr>\n",
              "    <tr>\n",
              "      <th>28</th>\n",
              "      <td>29º</td>\n",
              "      <td>Delphi/Pascal</td>\n",
              "      <td>0.13</td>\n",
              "    </tr>\n",
              "  </tbody>\n",
              "</table>\n",
              "</div>\n",
              "    <div class=\"colab-df-buttons\">\n",
              "\n",
              "  <div class=\"colab-df-container\">\n",
              "    <button class=\"colab-df-convert\" onclick=\"convertToInteractive('df-957897fc-54ab-4ce1-8771-0a47bdb287ae')\"\n",
              "            title=\"Convert this dataframe to an interactive table.\"\n",
              "            style=\"display:none;\">\n",
              "\n",
              "  <svg xmlns=\"http://www.w3.org/2000/svg\" height=\"24px\" viewBox=\"0 -960 960 960\">\n",
              "    <path d=\"M120-120v-720h720v720H120Zm60-500h600v-160H180v160Zm220 220h160v-160H400v160Zm0 220h160v-160H400v160ZM180-400h160v-160H180v160Zm440 0h160v-160H620v160ZM180-180h160v-160H180v160Zm440 0h160v-160H620v160Z\"/>\n",
              "  </svg>\n",
              "    </button>\n",
              "\n",
              "  <style>\n",
              "    .colab-df-container {\n",
              "      display:flex;\n",
              "      gap: 12px;\n",
              "    }\n",
              "\n",
              "    .colab-df-convert {\n",
              "      background-color: #E8F0FE;\n",
              "      border: none;\n",
              "      border-radius: 50%;\n",
              "      cursor: pointer;\n",
              "      display: none;\n",
              "      fill: #1967D2;\n",
              "      height: 32px;\n",
              "      padding: 0 0 0 0;\n",
              "      width: 32px;\n",
              "    }\n",
              "\n",
              "    .colab-df-convert:hover {\n",
              "      background-color: #E2EBFA;\n",
              "      box-shadow: 0px 1px 2px rgba(60, 64, 67, 0.3), 0px 1px 3px 1px rgba(60, 64, 67, 0.15);\n",
              "      fill: #174EA6;\n",
              "    }\n",
              "\n",
              "    .colab-df-buttons div {\n",
              "      margin-bottom: 4px;\n",
              "    }\n",
              "\n",
              "    [theme=dark] .colab-df-convert {\n",
              "      background-color: #3B4455;\n",
              "      fill: #D2E3FC;\n",
              "    }\n",
              "\n",
              "    [theme=dark] .colab-df-convert:hover {\n",
              "      background-color: #434B5C;\n",
              "      box-shadow: 0px 1px 3px 1px rgba(0, 0, 0, 0.15);\n",
              "      filter: drop-shadow(0px 1px 2px rgba(0, 0, 0, 0.3));\n",
              "      fill: #FFFFFF;\n",
              "    }\n",
              "  </style>\n",
              "\n",
              "    <script>\n",
              "      const buttonEl =\n",
              "        document.querySelector('#df-957897fc-54ab-4ce1-8771-0a47bdb287ae button.colab-df-convert');\n",
              "      buttonEl.style.display =\n",
              "        google.colab.kernel.accessAllowed ? 'block' : 'none';\n",
              "\n",
              "      async function convertToInteractive(key) {\n",
              "        const element = document.querySelector('#df-957897fc-54ab-4ce1-8771-0a47bdb287ae');\n",
              "        const dataTable =\n",
              "          await google.colab.kernel.invokeFunction('convertToInteractive',\n",
              "                                                    [key], {});\n",
              "        if (!dataTable) return;\n",
              "\n",
              "        const docLinkHtml = 'Like what you see? Visit the ' +\n",
              "          '<a target=\"_blank\" href=https://colab.research.google.com/notebooks/data_table.ipynb>data table notebook</a>'\n",
              "          + ' to learn more about interactive tables.';\n",
              "        element.innerHTML = '';\n",
              "        dataTable['output_type'] = 'display_data';\n",
              "        await google.colab.output.renderOutput(dataTable, element);\n",
              "        const docLink = document.createElement('div');\n",
              "        docLink.innerHTML = docLinkHtml;\n",
              "        element.appendChild(docLink);\n",
              "      }\n",
              "    </script>\n",
              "  </div>\n",
              "\n",
              "\n",
              "<div id=\"df-67c04026-5298-4b6c-94a4-9a9f282d15bb\">\n",
              "  <button class=\"colab-df-quickchart\" onclick=\"quickchart('df-67c04026-5298-4b6c-94a4-9a9f282d15bb')\"\n",
              "            title=\"Suggest charts\"\n",
              "            style=\"display:none;\">\n",
              "\n",
              "<svg xmlns=\"http://www.w3.org/2000/svg\" height=\"24px\"viewBox=\"0 0 24 24\"\n",
              "     width=\"24px\">\n",
              "    <g>\n",
              "        <path d=\"M19 3H5c-1.1 0-2 .9-2 2v14c0 1.1.9 2 2 2h14c1.1 0 2-.9 2-2V5c0-1.1-.9-2-2-2zM9 17H7v-7h2v7zm4 0h-2V7h2v10zm4 0h-2v-4h2v4z\"/>\n",
              "    </g>\n",
              "</svg>\n",
              "  </button>\n",
              "\n",
              "<style>\n",
              "  .colab-df-quickchart {\n",
              "      --bg-color: #E8F0FE;\n",
              "      --fill-color: #1967D2;\n",
              "      --hover-bg-color: #E2EBFA;\n",
              "      --hover-fill-color: #174EA6;\n",
              "      --disabled-fill-color: #AAA;\n",
              "      --disabled-bg-color: #DDD;\n",
              "  }\n",
              "\n",
              "  [theme=dark] .colab-df-quickchart {\n",
              "      --bg-color: #3B4455;\n",
              "      --fill-color: #D2E3FC;\n",
              "      --hover-bg-color: #434B5C;\n",
              "      --hover-fill-color: #FFFFFF;\n",
              "      --disabled-bg-color: #3B4455;\n",
              "      --disabled-fill-color: #666;\n",
              "  }\n",
              "\n",
              "  .colab-df-quickchart {\n",
              "    background-color: var(--bg-color);\n",
              "    border: none;\n",
              "    border-radius: 50%;\n",
              "    cursor: pointer;\n",
              "    display: none;\n",
              "    fill: var(--fill-color);\n",
              "    height: 32px;\n",
              "    padding: 0;\n",
              "    width: 32px;\n",
              "  }\n",
              "\n",
              "  .colab-df-quickchart:hover {\n",
              "    background-color: var(--hover-bg-color);\n",
              "    box-shadow: 0 1px 2px rgba(60, 64, 67, 0.3), 0 1px 3px 1px rgba(60, 64, 67, 0.15);\n",
              "    fill: var(--button-hover-fill-color);\n",
              "  }\n",
              "\n",
              "  .colab-df-quickchart-complete:disabled,\n",
              "  .colab-df-quickchart-complete:disabled:hover {\n",
              "    background-color: var(--disabled-bg-color);\n",
              "    fill: var(--disabled-fill-color);\n",
              "    box-shadow: none;\n",
              "  }\n",
              "\n",
              "  .colab-df-spinner {\n",
              "    border: 2px solid var(--fill-color);\n",
              "    border-color: transparent;\n",
              "    border-bottom-color: var(--fill-color);\n",
              "    animation:\n",
              "      spin 1s steps(1) infinite;\n",
              "  }\n",
              "\n",
              "  @keyframes spin {\n",
              "    0% {\n",
              "      border-color: transparent;\n",
              "      border-bottom-color: var(--fill-color);\n",
              "      border-left-color: var(--fill-color);\n",
              "    }\n",
              "    20% {\n",
              "      border-color: transparent;\n",
              "      border-left-color: var(--fill-color);\n",
              "      border-top-color: var(--fill-color);\n",
              "    }\n",
              "    30% {\n",
              "      border-color: transparent;\n",
              "      border-left-color: var(--fill-color);\n",
              "      border-top-color: var(--fill-color);\n",
              "      border-right-color: var(--fill-color);\n",
              "    }\n",
              "    40% {\n",
              "      border-color: transparent;\n",
              "      border-right-color: var(--fill-color);\n",
              "      border-top-color: var(--fill-color);\n",
              "    }\n",
              "    60% {\n",
              "      border-color: transparent;\n",
              "      border-right-color: var(--fill-color);\n",
              "    }\n",
              "    80% {\n",
              "      border-color: transparent;\n",
              "      border-right-color: var(--fill-color);\n",
              "      border-bottom-color: var(--fill-color);\n",
              "    }\n",
              "    90% {\n",
              "      border-color: transparent;\n",
              "      border-bottom-color: var(--fill-color);\n",
              "    }\n",
              "  }\n",
              "</style>\n",
              "\n",
              "  <script>\n",
              "    async function quickchart(key) {\n",
              "      const quickchartButtonEl =\n",
              "        document.querySelector('#' + key + ' button');\n",
              "      quickchartButtonEl.disabled = true;  // To prevent multiple clicks.\n",
              "      quickchartButtonEl.classList.add('colab-df-spinner');\n",
              "      try {\n",
              "        const charts = await google.colab.kernel.invokeFunction(\n",
              "            'suggestCharts', [key], {});\n",
              "      } catch (error) {\n",
              "        console.error('Error during call to suggestCharts:', error);\n",
              "      }\n",
              "      quickchartButtonEl.classList.remove('colab-df-spinner');\n",
              "      quickchartButtonEl.classList.add('colab-df-quickchart-complete');\n",
              "    }\n",
              "    (() => {\n",
              "      let quickchartButtonEl =\n",
              "        document.querySelector('#df-67c04026-5298-4b6c-94a4-9a9f282d15bb button');\n",
              "      quickchartButtonEl.style.display =\n",
              "        google.colab.kernel.accessAllowed ? 'block' : 'none';\n",
              "    })();\n",
              "  </script>\n",
              "</div>\n",
              "\n",
              "  <div id=\"id_0e9e35ce-d0c7-4f22-996a-62f53ea364ba\">\n",
              "    <style>\n",
              "      .colab-df-generate {\n",
              "        background-color: #E8F0FE;\n",
              "        border: none;\n",
              "        border-radius: 50%;\n",
              "        cursor: pointer;\n",
              "        display: none;\n",
              "        fill: #1967D2;\n",
              "        height: 32px;\n",
              "        padding: 0 0 0 0;\n",
              "        width: 32px;\n",
              "      }\n",
              "\n",
              "      .colab-df-generate:hover {\n",
              "        background-color: #E2EBFA;\n",
              "        box-shadow: 0px 1px 2px rgba(60, 64, 67, 0.3), 0px 1px 3px 1px rgba(60, 64, 67, 0.15);\n",
              "        fill: #174EA6;\n",
              "      }\n",
              "\n",
              "      [theme=dark] .colab-df-generate {\n",
              "        background-color: #3B4455;\n",
              "        fill: #D2E3FC;\n",
              "      }\n",
              "\n",
              "      [theme=dark] .colab-df-generate:hover {\n",
              "        background-color: #434B5C;\n",
              "        box-shadow: 0px 1px 3px 1px rgba(0, 0, 0, 0.15);\n",
              "        filter: drop-shadow(0px 1px 2px rgba(0, 0, 0, 0.3));\n",
              "        fill: #FFFFFF;\n",
              "      }\n",
              "    </style>\n",
              "    <button class=\"colab-df-generate\" onclick=\"generateWithVariable('df')\"\n",
              "            title=\"Generate code using this dataframe.\"\n",
              "            style=\"display:none;\">\n",
              "\n",
              "  <svg xmlns=\"http://www.w3.org/2000/svg\" height=\"24px\"viewBox=\"0 0 24 24\"\n",
              "       width=\"24px\">\n",
              "    <path d=\"M7,19H8.4L18.45,9,17,7.55,7,17.6ZM5,21V16.75L18.45,3.32a2,2,0,0,1,2.83,0l1.4,1.43a1.91,1.91,0,0,1,.58,1.4,1.91,1.91,0,0,1-.58,1.4L9.25,21ZM18.45,9,17,7.55Zm-12,3A5.31,5.31,0,0,0,4.9,8.1,5.31,5.31,0,0,0,1,6.5,5.31,5.31,0,0,0,4.9,4.9,5.31,5.31,0,0,0,6.5,1,5.31,5.31,0,0,0,8.1,4.9,5.31,5.31,0,0,0,12,6.5,5.46,5.46,0,0,0,6.5,12Z\"/>\n",
              "  </svg>\n",
              "    </button>\n",
              "    <script>\n",
              "      (() => {\n",
              "      const buttonEl =\n",
              "        document.querySelector('#id_0e9e35ce-d0c7-4f22-996a-62f53ea364ba button.colab-df-generate');\n",
              "      buttonEl.style.display =\n",
              "        google.colab.kernel.accessAllowed ? 'block' : 'none';\n",
              "\n",
              "      buttonEl.onclick = () => {\n",
              "        google.colab.notebook.generateWithVariable('df');\n",
              "      }\n",
              "      })();\n",
              "    </script>\n",
              "  </div>\n",
              "\n",
              "    </div>\n",
              "  </div>\n"
            ],
            "application/vnd.google.colaboratory.intrinsic+json": {
              "type": "dataframe",
              "variable_name": "df",
              "summary": "{\n  \"name\": \"df\",\n  \"rows\": 29,\n  \"fields\": [\n    {\n      \"column\": \"posicao\",\n      \"properties\": {\n        \"dtype\": \"string\",\n        \"num_unique_values\": 29,\n        \"samples\": [\n          \"28\\u00ba\",\n          \"17\\u00ba\",\n          \"13\\u00ba\"\n        ],\n        \"semantic_type\": \"\",\n        \"description\": \"\"\n      }\n    },\n    {\n      \"column\": \"linguagem\",\n      \"properties\": {\n        \"dtype\": \"string\",\n        \"num_unique_values\": 29,\n        \"samples\": [\n          \"Cobol\",\n          \"Ruby\",\n          \"Kotlin\"\n        ],\n        \"semantic_type\": \"\",\n        \"description\": \"\"\n      }\n    },\n    {\n      \"column\": \"porcentagem\",\n      \"properties\": {\n        \"dtype\": \"number\",\n        \"std\": 5.8897205057173965,\n        \"min\": 0.13,\n        \"max\": 28.43,\n        \"num_unique_values\": 29,\n        \"samples\": [\n          0.14,\n          0.97,\n          1.93\n        ],\n        \"semantic_type\": \"\",\n        \"description\": \"\"\n      }\n    }\n  ]\n}"
            }
          },
          "metadata": {},
          "execution_count": 61
        }
      ]
    },
    {
      "cell_type": "code",
      "source": [
        "sizes = df['porcentagem'][0:7]\n",
        "fig, ax = plt.subplots()\n",
        "ax.pie(sizes, autopct='%1.1f%%', startangle=90)\n",
        "ax.axis('equal')\n",
        "plt.title(\"7 linguagens de programação mais utilizadas\")\n",
        "plt.legend(labels, loc=\"upper left\")\n",
        "plt.show()"
      ],
      "metadata": {
        "colab": {
          "base_uri": "https://localhost:8080/",
          "height": 428
        },
        "id": "baYUEHp84L5Q",
        "outputId": "b73b283a-83b9-4c6a-f6bc-ded98d023899"
      },
      "execution_count": 71,
      "outputs": [
        {
          "output_type": "display_data",
          "data": {
            "text/plain": [
              "<Figure size 640x480 with 1 Axes>"
            ],
            "image/png": "[encoded data removed]"
          },
          "metadata": {}
        }
      ]
    }
  ]
}