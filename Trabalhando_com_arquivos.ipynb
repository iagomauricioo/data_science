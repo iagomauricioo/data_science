{
  "nbformat": 4,
  "nbformat_minor": 0,
  "metadata": {
    "colab": {
      "provenance": [],
      "authorship_tag": "ABX9TyN2rbjPWmY6bBnpJvESo4nX",
      "include_colab_link": true
    },
    "kernelspec": {
      "name": "python3",
      "display_name": "Python 3"
    },
    "language_info": {
      "name": "python"
    }
  },
  "cells": [
    {
      "cell_type": "markdown",
      "metadata": {
        "id": "view-in-github",
        "colab_type": "text"
      },
      "source": [
        "<a href=\"https://colab.research.google.com/github/iagomauricioo/data_science/blob/main/Trabalhando_com_arquivos.ipynb\" target=\"_parent\"><img src=\"https://colab.research.google.com/assets/colab-badge.svg\" alt=\"Open In Colab\"/></a>"
      ]
    },
    {
      "cell_type": "markdown",
      "source": [
        "# Trabalhando com arquivos"
      ],
      "metadata": {
        "id": "wBPkWj0_Bhz7"
      }
    },
    {
      "cell_type": "markdown",
      "source": [
        "Nesse módulo estou utilizando um DataSet que peguei no Kaggle com reviews do Spotify para poder trabalhar esses dados e aprender um pouco sobre como funciona os arquivos em Data Science.\n",
        "\n",
        "🔗https://www.kaggle.com/datasets/ashishkumarak/spotify-reviews-playstore-daily-update\n",
        "- Link do dataset acima, um arquivo .csv"
      ],
      "metadata": {
        "id": "4SbVRvMABmDs"
      }
    },
    {
      "cell_type": "code",
      "execution_count": null,
      "metadata": {
        "id": "XE5igspTAelj"
      },
      "outputs": [],
      "source": [
        "import csv\n",
        "import pandas as pd"
      ]
    },
    {
      "cell_type": "code",
      "source": [
        "with open('spotify_reviews.csv', 'r') as f:\n",
        "    reader = csv.reader(f, delimiter=',')\n",
        "    next(reader)\n",
        "    i = 0\n",
        "    class Review:\n",
        "        def __init__(self, userName, content, rating):\n",
        "            self.userName = userName\n",
        "            self.content = content\n",
        "            self.rating = rating\n",
        "    for row in reader:\n",
        "        i += 1\n",
        "        USERNAME = row[1]\n",
        "        CONTENT = row[2]\n",
        "        RATING = row[3]\n",
        "        review = Review(USERNAME, CONTENT, RATING)\n",
        "        print(f\"--USER: {review.userName}, --CONTENT: {review.content}, --RATING: {review.rating}\")\n",
        "        if i == 10:\n",
        "            break"
      ],
      "metadata": {
        "colab": {
          "base_uri": "https://localhost:8080/"
        },
        "id": "VXkPVSLJAizt",
        "outputId": "0665852f-e207-45e8-8d9d-2a97258db470"
      },
      "execution_count": null,
      "outputs": [
        {
          "output_type": "stream",
          "name": "stdout",
          "text": [
            "--USER: Rajib Das, --CONTENT: It's good, --RATING: 4\n",
            "--USER: Mihaela Claudia Neagu, --CONTENT: I love this app so much, I've been using Spotify for more than 2 years, with different accounts of course. But this app is sometimes really annoying if u don't have premium. when I say this, I can't even see the lyrics on the songs anymore? And is also playing songs that aint even in my playlist, and a really most annoying is that why are there only 6 skip per hour? like I don't like every song., --RATING: 5\n",
            "--USER: JONATHAN GRACIA, --CONTENT: Perfect, --RATING: 5\n",
            "--USER: Cam Rempel, --CONTENT: Best all around music streaming app I have used, the family plan is great!, --RATING: 5\n",
            "--USER: Your clowness (Her Clowness), --CONTENT: Are y'all fr gatekeeping the play button on songs!?, --RATING: 1\n",
            "--USER: Mike rangel, --CONTENT: Loved it, --RATING: 5\n",
            "--USER: CHARISHMA CHARISHMA, --CONTENT: The app is good but it will start to ask premium.....it should be controlled, --RATING: 3\n",
            "--USER: Robert Rankin, --CONTENT: excellent app, --RATING: 5\n",
            "--USER: Jun Vallan, --CONTENT: I like this spotify, --RATING: 5\n",
            "--USER: Danielle Joyce Perez, --CONTENT: Eat the rich, --RATING: 1\n"
          ]
        }
      ]
    },
    {
      "cell_type": "code",
      "source": [
        "dataset = pd.read_csv('spotify_reviews.csv')"
      ],
      "metadata": {
        "id": "I1O23jb7CBRQ"
      },
      "execution_count": null,
      "outputs": []
    },
    {
      "cell_type": "code",
      "source": [
        "dataset.to_excel(excel_writer='spotify_reviews.xlsx') #Transformou pra excel .xlsx"
      ],
      "metadata": {
        "id": "uGyj3LtoGgwq"
      },
      "execution_count": null,
      "outputs": []
    }
  ]
}